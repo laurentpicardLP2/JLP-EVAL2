{
  "cells": [
    {
      "cell_type": "markdown",
      "id": "0571cf12",
      "metadata": {
        "id": "0571cf12"
      },
      "source": [
        "![openclassrooms](https://s3.eu-west-1.amazonaws.com/course.oc-static.com/courses/6204541/1+HnqdJ-5ofxiPP9HIxdNdpw.jpeg)\n",
        "\n",
        "# Tracez des graphiques avec matplotlib\n",
        "\n",
        "Vous êtes en train de préparer le reporting mensuel que vous devez présenter chaque fin de mois à votre responsable. La présentation devra comprendre certains graphiques clés : vous allez donc devoir utiliser vos compétences en data visualisation pour produire les différentes visualisations attendues.\n",
        "\n",
        "Les graphiques à produire sont donc :\n",
        "- la proportion de prêt par type de prêt\n",
        "- le bénéfice mensuel réalisé en fonction du revenu du client\n",
        "- la distribution des bénéfices réalisés\n",
        "- le bénéfice mensuel total réalisé par agence\n"
      ]
    },
    {
      "cell_type": "code",
      "execution_count": 1,
      "id": "c4d02905",
      "metadata": {
        "id": "c4d02905"
      },
      "outputs": [],
      "source": [
        "import numpy as np\n",
        "import pandas as pd\n",
        "import matplotlib.pyplot as plt"
      ]
    },
    {
      "cell_type": "markdown",
      "id": "5376a128",
      "metadata": {
        "id": "5376a128"
      },
      "source": [
        "Pour réaliser les différents graphiques, nous utiliserons le fichier de prêt enrichi ([c.f. exercice précédent](https://colab.research.google.com/github/OpenClassrooms-Student-Center/fr-4452741-decouvrez-les-librairies-python-pour-la-data-science/blob/main/notebooks/P2/P2C3%20-%20Filtrez%20les%20donn%C3%A9es%20du%20data%20frame%20-%20correction.ipynb)) que vous trouverez [à cette adresse](https://raw.githubusercontent.com/OpenClassrooms-Student-Center/fr-4452741-decouvrez-les-librairies-python-pour-la-data-science/main/data/prets_final.csv) :"
      ]
    },
    {
      "cell_type": "code",
      "execution_count": 2,
      "id": "05e5172a",
      "metadata": {
        "colab": {
          "base_uri": "https://localhost:8080/",
          "height": 206
        },
        "id": "05e5172a",
        "outputId": "3d8392e6-a755-47e2-c9da-b07096f43936"
      },
      "outputs": [
        {
          "output_type": "execute_result",
          "data": {
            "text/plain": [
              "   identifiant      ville     CP  revenu  remboursement  duree        type  \\\n",
              "0            0   TOULOUSE  31100  3669.0        1130.05    240  immobilier   \n",
              "1            1      PARIS  75009  5310.0         240.00     64  automobile   \n",
              "2            1      PARIS  75009  5310.0        1247.85    300  immobilier   \n",
              "3            2  MARSEILLE  13010  1873.0         552.54    240  immobilier   \n",
              "4            3  MARSEILLE  13010  1684.0         586.03    180  immobilier   \n",
              "\n",
              "   taux_interet  taux_endettement  cout_total  benefices risque  \n",
              "0         1.168             30.80    271212.0     131.99    Non  \n",
              "1         3.701              4.52     15360.0      23.69    Non  \n",
              "2         1.173             23.50    374355.0     182.97    Non  \n",
              "3         0.972             29.50    132609.6      53.71    Non  \n",
              "4         1.014             34.80    105485.4      44.57    Non  "
            ],
            "text/html": [
              "\n",
              "  <div id=\"df-16b5ff63-0da9-420d-8b9f-15066196dafc\" class=\"colab-df-container\">\n",
              "    <div>\n",
              "<style scoped>\n",
              "    .dataframe tbody tr th:only-of-type {\n",
              "        vertical-align: middle;\n",
              "    }\n",
              "\n",
              "    .dataframe tbody tr th {\n",
              "        vertical-align: top;\n",
              "    }\n",
              "\n",
              "    .dataframe thead th {\n",
              "        text-align: right;\n",
              "    }\n",
              "</style>\n",
              "<table border=\"1\" class=\"dataframe\">\n",
              "  <thead>\n",
              "    <tr style=\"text-align: right;\">\n",
              "      <th></th>\n",
              "      <th>identifiant</th>\n",
              "      <th>ville</th>\n",
              "      <th>CP</th>\n",
              "      <th>revenu</th>\n",
              "      <th>remboursement</th>\n",
              "      <th>duree</th>\n",
              "      <th>type</th>\n",
              "      <th>taux_interet</th>\n",
              "      <th>taux_endettement</th>\n",
              "      <th>cout_total</th>\n",
              "      <th>benefices</th>\n",
              "      <th>risque</th>\n",
              "    </tr>\n",
              "  </thead>\n",
              "  <tbody>\n",
              "    <tr>\n",
              "      <th>0</th>\n",
              "      <td>0</td>\n",
              "      <td>TOULOUSE</td>\n",
              "      <td>31100</td>\n",
              "      <td>3669.0</td>\n",
              "      <td>1130.05</td>\n",
              "      <td>240</td>\n",
              "      <td>immobilier</td>\n",
              "      <td>1.168</td>\n",
              "      <td>30.80</td>\n",
              "      <td>271212.0</td>\n",
              "      <td>131.99</td>\n",
              "      <td>Non</td>\n",
              "    </tr>\n",
              "    <tr>\n",
              "      <th>1</th>\n",
              "      <td>1</td>\n",
              "      <td>PARIS</td>\n",
              "      <td>75009</td>\n",
              "      <td>5310.0</td>\n",
              "      <td>240.00</td>\n",
              "      <td>64</td>\n",
              "      <td>automobile</td>\n",
              "      <td>3.701</td>\n",
              "      <td>4.52</td>\n",
              "      <td>15360.0</td>\n",
              "      <td>23.69</td>\n",
              "      <td>Non</td>\n",
              "    </tr>\n",
              "    <tr>\n",
              "      <th>2</th>\n",
              "      <td>1</td>\n",
              "      <td>PARIS</td>\n",
              "      <td>75009</td>\n",
              "      <td>5310.0</td>\n",
              "      <td>1247.85</td>\n",
              "      <td>300</td>\n",
              "      <td>immobilier</td>\n",
              "      <td>1.173</td>\n",
              "      <td>23.50</td>\n",
              "      <td>374355.0</td>\n",
              "      <td>182.97</td>\n",
              "      <td>Non</td>\n",
              "    </tr>\n",
              "    <tr>\n",
              "      <th>3</th>\n",
              "      <td>2</td>\n",
              "      <td>MARSEILLE</td>\n",
              "      <td>13010</td>\n",
              "      <td>1873.0</td>\n",
              "      <td>552.54</td>\n",
              "      <td>240</td>\n",
              "      <td>immobilier</td>\n",
              "      <td>0.972</td>\n",
              "      <td>29.50</td>\n",
              "      <td>132609.6</td>\n",
              "      <td>53.71</td>\n",
              "      <td>Non</td>\n",
              "    </tr>\n",
              "    <tr>\n",
              "      <th>4</th>\n",
              "      <td>3</td>\n",
              "      <td>MARSEILLE</td>\n",
              "      <td>13010</td>\n",
              "      <td>1684.0</td>\n",
              "      <td>586.03</td>\n",
              "      <td>180</td>\n",
              "      <td>immobilier</td>\n",
              "      <td>1.014</td>\n",
              "      <td>34.80</td>\n",
              "      <td>105485.4</td>\n",
              "      <td>44.57</td>\n",
              "      <td>Non</td>\n",
              "    </tr>\n",
              "  </tbody>\n",
              "</table>\n",
              "</div>\n",
              "    <div class=\"colab-df-buttons\">\n",
              "\n",
              "  <div class=\"colab-df-container\">\n",
              "    <button class=\"colab-df-convert\" onclick=\"convertToInteractive('df-16b5ff63-0da9-420d-8b9f-15066196dafc')\"\n",
              "            title=\"Convert this dataframe to an interactive table.\"\n",
              "            style=\"display:none;\">\n",
              "\n",
              "  <svg xmlns=\"http://www.w3.org/2000/svg\" height=\"24px\" viewBox=\"0 -960 960 960\">\n",
              "    <path d=\"M120-120v-720h720v720H120Zm60-500h600v-160H180v160Zm220 220h160v-160H400v160Zm0 220h160v-160H400v160ZM180-400h160v-160H180v160Zm440 0h160v-160H620v160ZM180-180h160v-160H180v160Zm440 0h160v-160H620v160Z\"/>\n",
              "  </svg>\n",
              "    </button>\n",
              "\n",
              "  <style>\n",
              "    .colab-df-container {\n",
              "      display:flex;\n",
              "      gap: 12px;\n",
              "    }\n",
              "\n",
              "    .colab-df-convert {\n",
              "      background-color: #E8F0FE;\n",
              "      border: none;\n",
              "      border-radius: 50%;\n",
              "      cursor: pointer;\n",
              "      display: none;\n",
              "      fill: #1967D2;\n",
              "      height: 32px;\n",
              "      padding: 0 0 0 0;\n",
              "      width: 32px;\n",
              "    }\n",
              "\n",
              "    .colab-df-convert:hover {\n",
              "      background-color: #E2EBFA;\n",
              "      box-shadow: 0px 1px 2px rgba(60, 64, 67, 0.3), 0px 1px 3px 1px rgba(60, 64, 67, 0.15);\n",
              "      fill: #174EA6;\n",
              "    }\n",
              "\n",
              "    .colab-df-buttons div {\n",
              "      margin-bottom: 4px;\n",
              "    }\n",
              "\n",
              "    [theme=dark] .colab-df-convert {\n",
              "      background-color: #3B4455;\n",
              "      fill: #D2E3FC;\n",
              "    }\n",
              "\n",
              "    [theme=dark] .colab-df-convert:hover {\n",
              "      background-color: #434B5C;\n",
              "      box-shadow: 0px 1px 3px 1px rgba(0, 0, 0, 0.15);\n",
              "      filter: drop-shadow(0px 1px 2px rgba(0, 0, 0, 0.3));\n",
              "      fill: #FFFFFF;\n",
              "    }\n",
              "  </style>\n",
              "\n",
              "    <script>\n",
              "      const buttonEl =\n",
              "        document.querySelector('#df-16b5ff63-0da9-420d-8b9f-15066196dafc button.colab-df-convert');\n",
              "      buttonEl.style.display =\n",
              "        google.colab.kernel.accessAllowed ? 'block' : 'none';\n",
              "\n",
              "      async function convertToInteractive(key) {\n",
              "        const element = document.querySelector('#df-16b5ff63-0da9-420d-8b9f-15066196dafc');\n",
              "        const dataTable =\n",
              "          await google.colab.kernel.invokeFunction('convertToInteractive',\n",
              "                                                    [key], {});\n",
              "        if (!dataTable) return;\n",
              "\n",
              "        const docLinkHtml = 'Like what you see? Visit the ' +\n",
              "          '<a target=\"_blank\" href=https://colab.research.google.com/notebooks/data_table.ipynb>data table notebook</a>'\n",
              "          + ' to learn more about interactive tables.';\n",
              "        element.innerHTML = '';\n",
              "        dataTable['output_type'] = 'display_data';\n",
              "        await google.colab.output.renderOutput(dataTable, element);\n",
              "        const docLink = document.createElement('div');\n",
              "        docLink.innerHTML = docLinkHtml;\n",
              "        element.appendChild(docLink);\n",
              "      }\n",
              "    </script>\n",
              "  </div>\n",
              "\n",
              "\n",
              "    <div id=\"df-07771455-5ed7-4069-aa83-c22cf8c1f00f\">\n",
              "      <button class=\"colab-df-quickchart\" onclick=\"quickchart('df-07771455-5ed7-4069-aa83-c22cf8c1f00f')\"\n",
              "                title=\"Suggest charts\"\n",
              "                style=\"display:none;\">\n",
              "\n",
              "<svg xmlns=\"http://www.w3.org/2000/svg\" height=\"24px\"viewBox=\"0 0 24 24\"\n",
              "     width=\"24px\">\n",
              "    <g>\n",
              "        <path d=\"M19 3H5c-1.1 0-2 .9-2 2v14c0 1.1.9 2 2 2h14c1.1 0 2-.9 2-2V5c0-1.1-.9-2-2-2zM9 17H7v-7h2v7zm4 0h-2V7h2v10zm4 0h-2v-4h2v4z\"/>\n",
              "    </g>\n",
              "</svg>\n",
              "      </button>\n",
              "\n",
              "<style>\n",
              "  .colab-df-quickchart {\n",
              "      --bg-color: #E8F0FE;\n",
              "      --fill-color: #1967D2;\n",
              "      --hover-bg-color: #E2EBFA;\n",
              "      --hover-fill-color: #174EA6;\n",
              "      --disabled-fill-color: #AAA;\n",
              "      --disabled-bg-color: #DDD;\n",
              "  }\n",
              "\n",
              "  [theme=dark] .colab-df-quickchart {\n",
              "      --bg-color: #3B4455;\n",
              "      --fill-color: #D2E3FC;\n",
              "      --hover-bg-color: #434B5C;\n",
              "      --hover-fill-color: #FFFFFF;\n",
              "      --disabled-bg-color: #3B4455;\n",
              "      --disabled-fill-color: #666;\n",
              "  }\n",
              "\n",
              "  .colab-df-quickchart {\n",
              "    background-color: var(--bg-color);\n",
              "    border: none;\n",
              "    border-radius: 50%;\n",
              "    cursor: pointer;\n",
              "    display: none;\n",
              "    fill: var(--fill-color);\n",
              "    height: 32px;\n",
              "    padding: 0;\n",
              "    width: 32px;\n",
              "  }\n",
              "\n",
              "  .colab-df-quickchart:hover {\n",
              "    background-color: var(--hover-bg-color);\n",
              "    box-shadow: 0 1px 2px rgba(60, 64, 67, 0.3), 0 1px 3px 1px rgba(60, 64, 67, 0.15);\n",
              "    fill: var(--button-hover-fill-color);\n",
              "  }\n",
              "\n",
              "  .colab-df-quickchart-complete:disabled,\n",
              "  .colab-df-quickchart-complete:disabled:hover {\n",
              "    background-color: var(--disabled-bg-color);\n",
              "    fill: var(--disabled-fill-color);\n",
              "    box-shadow: none;\n",
              "  }\n",
              "\n",
              "  .colab-df-spinner {\n",
              "    border: 2px solid var(--fill-color);\n",
              "    border-color: transparent;\n",
              "    border-bottom-color: var(--fill-color);\n",
              "    animation:\n",
              "      spin 1s steps(1) infinite;\n",
              "  }\n",
              "\n",
              "  @keyframes spin {\n",
              "    0% {\n",
              "      border-color: transparent;\n",
              "      border-bottom-color: var(--fill-color);\n",
              "      border-left-color: var(--fill-color);\n",
              "    }\n",
              "    20% {\n",
              "      border-color: transparent;\n",
              "      border-left-color: var(--fill-color);\n",
              "      border-top-color: var(--fill-color);\n",
              "    }\n",
              "    30% {\n",
              "      border-color: transparent;\n",
              "      border-left-color: var(--fill-color);\n",
              "      border-top-color: var(--fill-color);\n",
              "      border-right-color: var(--fill-color);\n",
              "    }\n",
              "    40% {\n",
              "      border-color: transparent;\n",
              "      border-right-color: var(--fill-color);\n",
              "      border-top-color: var(--fill-color);\n",
              "    }\n",
              "    60% {\n",
              "      border-color: transparent;\n",
              "      border-right-color: var(--fill-color);\n",
              "    }\n",
              "    80% {\n",
              "      border-color: transparent;\n",
              "      border-right-color: var(--fill-color);\n",
              "      border-bottom-color: var(--fill-color);\n",
              "    }\n",
              "    90% {\n",
              "      border-color: transparent;\n",
              "      border-bottom-color: var(--fill-color);\n",
              "    }\n",
              "  }\n",
              "</style>\n",
              "\n",
              "      <script>\n",
              "        async function quickchart(key) {\n",
              "          const quickchartButtonEl =\n",
              "            document.querySelector('#' + key + ' button');\n",
              "          quickchartButtonEl.disabled = true;  // To prevent multiple clicks.\n",
              "          quickchartButtonEl.classList.add('colab-df-spinner');\n",
              "          try {\n",
              "            const charts = await google.colab.kernel.invokeFunction(\n",
              "                'suggestCharts', [key], {});\n",
              "          } catch (error) {\n",
              "            console.error('Error during call to suggestCharts:', error);\n",
              "          }\n",
              "          quickchartButtonEl.classList.remove('colab-df-spinner');\n",
              "          quickchartButtonEl.classList.add('colab-df-quickchart-complete');\n",
              "        }\n",
              "        (() => {\n",
              "          let quickchartButtonEl =\n",
              "            document.querySelector('#df-07771455-5ed7-4069-aa83-c22cf8c1f00f button');\n",
              "          quickchartButtonEl.style.display =\n",
              "            google.colab.kernel.accessAllowed ? 'block' : 'none';\n",
              "        })();\n",
              "      </script>\n",
              "    </div>\n",
              "\n",
              "    </div>\n",
              "  </div>\n"
            ],
            "application/vnd.google.colaboratory.intrinsic+json": {
              "type": "dataframe",
              "variable_name": "prets",
              "summary": "{\n  \"name\": \"prets\",\n  \"rows\": 244,\n  \"fields\": [\n    {\n      \"column\": \"identifiant\",\n      \"properties\": {\n        \"dtype\": \"number\",\n        \"std\": 65,\n        \"min\": 0,\n        \"max\": 227,\n        \"num_unique_values\": 228,\n        \"samples\": [\n          215,\n          66,\n          9\n        ],\n        \"semantic_type\": \"\",\n        \"description\": \"\"\n      }\n    },\n    {\n      \"column\": \"ville\",\n      \"properties\": {\n        \"dtype\": \"category\",\n        \"num_unique_values\": 6,\n        \"samples\": [\n          \"TOULOUSE\",\n          \"PARIS\",\n          \"BORDEAUX\"\n        ],\n        \"semantic_type\": \"\",\n        \"description\": \"\"\n      }\n    },\n    {\n      \"column\": \"CP\",\n      \"properties\": {\n        \"dtype\": \"number\",\n        \"std\": 28596,\n        \"min\": 6000,\n        \"max\": 75116,\n        \"num_unique_values\": 59,\n        \"samples\": [\n          31100,\n          69008,\n          75014\n        ],\n        \"semantic_type\": \"\",\n        \"description\": \"\"\n      }\n    },\n    {\n      \"column\": \"revenu\",\n      \"properties\": {\n        \"dtype\": \"number\",\n        \"std\": 1464.8964179585432,\n        \"min\": 1200.0,\n        \"max\": 6807.0,\n        \"num_unique_values\": 226,\n        \"samples\": [\n          1386.0,\n          1432.0,\n          2962.0\n        ],\n        \"semantic_type\": \"\",\n        \"description\": \"\"\n      }\n    },\n    {\n      \"column\": \"remboursement\",\n      \"properties\": {\n        \"dtype\": \"number\",\n        \"std\": 596.4214846595098,\n        \"min\": 199.64,\n        \"max\": 3744.77,\n        \"num_unique_values\": 244,\n        \"samples\": [\n          1018.93,\n          836.89,\n          454.72\n        ],\n        \"semantic_type\": \"\",\n        \"description\": \"\"\n      }\n    },\n    {\n      \"column\": \"duree\",\n      \"properties\": {\n        \"dtype\": \"number\",\n        \"std\": 64,\n        \"min\": 24,\n        \"max\": 300,\n        \"num_unique_values\": 19,\n        \"samples\": [\n          240,\n          24,\n          78\n        ],\n        \"semantic_type\": \"\",\n        \"description\": \"\"\n      }\n    },\n    {\n      \"column\": \"type\",\n      \"properties\": {\n        \"dtype\": \"category\",\n        \"num_unique_values\": 2,\n        \"samples\": [\n          \"automobile\",\n          \"immobilier\"\n        ],\n        \"semantic_type\": \"\",\n        \"description\": \"\"\n      }\n    },\n    {\n      \"column\": \"taux_interet\",\n      \"properties\": {\n        \"dtype\": \"number\",\n        \"std\": 0.541555019443575,\n        \"min\": 0.919,\n        \"max\": 3.701,\n        \"num_unique_values\": 164,\n        \"samples\": [\n          1.176,\n          0.975\n        ],\n        \"semantic_type\": \"\",\n        \"description\": \"\"\n      }\n    },\n    {\n      \"column\": \"taux_endettement\",\n      \"properties\": {\n        \"dtype\": \"number\",\n        \"std\": 11.053319166990832,\n        \"min\": 4.52,\n        \"max\": 57.3,\n        \"num_unique_values\": 167,\n        \"samples\": [\n          37.6,\n          56.0\n        ],\n        \"semantic_type\": \"\",\n        \"description\": \"\"\n      }\n    },\n    {\n      \"column\": \"cout_total\",\n      \"properties\": {\n        \"dtype\": \"number\",\n        \"std\": 146931.04998281994,\n        \"min\": 5955.0,\n        \"max\": 887085.0,\n        \"num_unique_values\": 244,\n        \"samples\": [\n          244543.2,\n          200853.6\n        ],\n        \"semantic_type\": \"\",\n        \"description\": \"\"\n      }\n    },\n    {\n      \"column\": \"benefices\",\n      \"properties\": {\n        \"dtype\": \"number\",\n        \"std\": 69.82947562758726,\n        \"min\": 8.49,\n        \"max\": 437.63,\n        \"num_unique_values\": 242,\n        \"samples\": [\n          125.23,\n          93.4\n        ],\n        \"semantic_type\": \"\",\n        \"description\": \"\"\n      }\n    },\n    {\n      \"column\": \"risque\",\n      \"properties\": {\n        \"dtype\": \"category\",\n        \"num_unique_values\": 2,\n        \"samples\": [\n          \"Oui\",\n          \"Non\"\n        ],\n        \"semantic_type\": \"\",\n        \"description\": \"\"\n      }\n    }\n  ]\n}"
            }
          },
          "metadata": {},
          "execution_count": 2
        }
      ],
      "source": [
        "# traitement réalisés précédemment\n",
        "prets = pd.read_csv('https://raw.githubusercontent.com/OpenClassrooms-Student-Center/fr-4452741-decouvrez-les-librairies-python-pour-la-data-science/main/data/prets_final.csv')\n",
        "\n",
        "prets.head()"
      ]
    },
    {
      "cell_type": "markdown",
      "id": "1d3e0eae",
      "metadata": {
        "id": "1d3e0eae"
      },
      "source": [
        "## 1. proportion de prêt par type de prêt."
      ]
    },
    {
      "cell_type": "code",
      "execution_count": 7,
      "id": "841e389a",
      "metadata": {
        "colab": {
          "base_uri": "https://localhost:8080/",
          "height": 406
        },
        "id": "841e389a",
        "outputId": "68caec20-4d6b-488e-e946-89b566896a01"
      },
      "outputs": [
        {
          "output_type": "display_data",
          "data": {
            "text/plain": [
              "<Figure size 640x480 with 1 Axes>"
            ],
            "image/png": "[encoded data removed]"
          },
          "metadata": {}
        }
      ],
      "source": [
        "data = prets.groupby('type').agg(count=('type', 'count')).reset_index()\n",
        "plt.pie(data['count'], labels=data['type'], autopct='%1.0f%%')\n",
        "plt.show()"
      ]
    },
    {
      "cell_type": "markdown",
      "id": "e17a11c7",
      "metadata": {
        "id": "e17a11c7"
      },
      "source": [
        "## 2. bénéfice mensuel réalisé en fonction du revenu du client"
      ]
    },
    {
      "cell_type": "code",
      "execution_count": 12,
      "id": "2f423f9b",
      "metadata": {
        "colab": {
          "base_uri": "https://localhost:8080/",
          "height": 430
        },
        "id": "2f423f9b",
        "outputId": "3e00a97d-edd0-455b-c735-6fe6db9184f7"
      },
      "outputs": [
        {
          "output_type": "display_data",
          "data": {
            "text/plain": [
              "<Figure size 640x480 with 1 Axes>"
            ],
            "image/png": "[encoded data removed]"
          },
          "metadata": {}
        }
      ],
      "source": [
        "data = prets.groupby('revenu').agg(benefice=('benefices', 'sum')).reset_index()\n",
        "plt.scatter(data['revenu'], data['benefice'])\n",
        "plt.show()"
      ]
    },
    {
      "cell_type": "markdown",
      "id": "3e93dd72",
      "metadata": {
        "id": "3e93dd72"
      },
      "source": [
        "## 3. La distribution des bénéfices réalisés"
      ]
    },
    {
      "cell_type": "code",
      "execution_count": 10,
      "id": "d84bc060",
      "metadata": {
        "colab": {
          "base_uri": "https://localhost:8080/",
          "height": 430
        },
        "id": "d84bc060",
        "outputId": "66dd023f-f0e5-459b-f577-3076e024edf6"
      },
      "outputs": [
        {
          "output_type": "display_data",
          "data": {
            "text/plain": [
              "<Figure size 640x480 with 1 Axes>"
            ],
            "image/png": "[encoded data removed]"
          },
          "metadata": {}
        }
      ],
      "source": [
        "plt.hist(prets['benefices'], bins=20)\n",
        "plt.show()"
      ]
    },
    {
      "cell_type": "markdown",
      "id": "99dcc511",
      "metadata": {
        "id": "99dcc511"
      },
      "source": [
        "## 4. bénéfice mensuel total réalisé par agence"
      ]
    },
    {
      "cell_type": "code",
      "execution_count": 11,
      "id": "f39ad375",
      "metadata": {
        "colab": {
          "base_uri": "https://localhost:8080/",
          "height": 430
        },
        "id": "f39ad375",
        "outputId": "1740da09-9a93-4da3-f99e-256da880634c"
      },
      "outputs": [
        {
          "output_type": "display_data",
          "data": {
            "text/plain": [
              "<Figure size 640x480 with 1 Axes>"
            ],
            "image/png": "[encoded data removed]"
          },
          "metadata": {}
        }
      ],
      "source": [
        "data = prets.groupby('ville').agg(benefice=('benefices', 'sum')).reset_index()\n",
        "plt.bar(data['ville'], data['benefice'])\n",
        "plt.show()"
      ]
    },
    {
      "cell_type": "markdown",
      "id": "ff99d906",
      "metadata": {
        "id": "ff99d906"
      },
      "source": [
        "Félicitations pour être arrivé au bout ! Voici [la correction correspondante](https://colab.research.google.com/github/OpenClassrooms-Student-Center/fr-4452741-decouvrez-les-librairies-python-pour-la-data-science/blob/main/notebooks/P3/P3C2%20-%20Tracez%20des%20graphiques%20avec%20Matplotlib%20-%20correction.ipynb)."
      ]
    },
    {
      "cell_type": "code",
      "execution_count": null,
      "id": "8d79ae24",
      "metadata": {
        "id": "8d79ae24"
      },
      "outputs": [],
      "source": []
    }
  ],
  "metadata": {
    "kernelspec": {
      "display_name": "Python 3 (ipykernel)",
      "language": "python",
      "name": "python3"
    },
    "language_info": {
      "codemirror_mode": {
        "name": "ipython",
        "version": 3
      },
      "file_extension": ".py",
      "mimetype": "text/x-python",
      "name": "python",
      "nbconvert_exporter": "python",
      "pygments_lexer": "ipython3",
      "version": "3.9.13"
    },
    "colab": {
      "provenance": []
    }
  },
  "nbformat": 4,
  "nbformat_minor": 5
}